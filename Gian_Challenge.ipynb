{
 "cells": [
  {
   "cell_type": "markdown",
   "metadata": {},
   "source": [
    "# GIAN NLP Reverse Engineering Challenge"
   ]
  },
  {
   "cell_type": "markdown",
   "metadata": {},
   "source": [
    "In the data directory for this notebook you will find five text files.\n",
    "\n",
    "File `0.txt` is The Project Gutenberg etext of \"The Hunting of the Snark\" by Lewis Carroll. It is the source file for this assignment.\n",
    "\n",
    "Files `1.txt`, `2.txt`, `3.txt`, and `4.txt` were all processed from the source file using techniques we saw in the course.\n",
    "\n",
    "The goal of this challenge is to *reverse engineer* the files. In other words, you'll need to describe in detail how each of the files was constructed.\n",
    "\n",
    "Try to answer for each file how you would reproduce the resulting file as closely as possible using only Python and the libraries we have used during the course. The best way to answer is in code, but you can also try to make an algorithmic description. \n",
    "\n"
   ]
  },
  {
   "cell_type": "markdown",
   "metadata": {},
   "source": [
    "## Example of Reverse Engineering\n",
    "\n",
    "You have received a source file that contains the following text:\n",
    "\n",
    "`Having settled the proper kind, amount, and variety of our mental food,it remains that we should be careful to allow _proper intervals_ between meal and meal, and not swallow the food hastily without mastication, so that it may be thoroughly digested; both which rules, for the body, are also applicable at once to the mind.`\n",
    "\n",
    "And the file you are asked to reverse engineer contains the following text:\n",
    "\n",
    "`6 7 3 6 4 6 3 7 2 3 6 4 2 7 4 2 6 2 7 2 5 7 10 7 4 3 4 3 3 7 3 4 7 7 11 2 4 2 3 2 10 8 4 5 5 3 3 4 3 4 10 2 4 2 3 4`\n",
    "\n",
    "## Example Answers\n",
    "\n",
    "### A good code example would look like this:"
   ]
  },
  {
   "cell_type": "code",
   "execution_count": 19,
   "metadata": {},
   "outputs": [
    {
     "data": {
      "text/plain": [
       "True"
      ]
     },
     "execution_count": 19,
     "metadata": {},
     "output_type": "execute_result"
    }
   ],
   "source": [
    "s=\"\"\"Having settled the proper kind, amount, and variety of our mental food, it remains that we should be careful to allow _proper intervals_ between meal and meal, and not swallow the food hastily without mastication, so that it may be thoroughly digested; both which rules, for the body, are also applicable at once to the mind.\"\"\"\n",
    "\n",
    "import re\n",
    "tokens=re.split(\"[\\W\\,\\.]\", s)\n",
    "lengths=[str(len(token)) for token in tokens if len(token)>0]\n",
    "f_out=open(\"example_reverse_engineered.txt\", \"w\")\n",
    "f_out.write(\" \".join(lengths))\n",
    "f_out.close()\n",
    "\n",
    "original=\"6 7 3 6 4 6 3 7 2 3 6 4 2 7 4 2 6 2 7 2 5 7 10 7 4 3 4 3 3 7 3 4 7 7 11 2 4 2 3 2 10 8 4 5 5 3 3 4 3 4 10 2 4 2 3 4\"\n",
    "reverse_engineered=open(\"example_reverse_engineered.txt\", \"r\").read()\n",
    "\n",
    "original==reverse_engineered"
   ]
  },
  {
   "cell_type": "markdown",
   "metadata": {},
   "source": [
    "### A good algorithmic description would look like this:\n",
    "\n",
    "- Tokenize the text in the source file using re.split (pattern = `[\\W\\,\\.]`)\n",
    "- Remove empty strings from the list of tokens.\n",
    "- Loop over the list of tokens and write the length of each token to the output file."
   ]
  },
  {
   "cell_type": "markdown",
   "metadata": {
    "emeta": {
     "name": "e1a"
    }
   },
   "source": [
    "## How did you reverse engineer file `1.txt` "
   ]
  },
  {
   "cell_type": "markdown",
   "metadata": {
    "emeta": {
     "name": "e2a"
    }
   },
   "source": [
    "## How did you reverse engineer file `2.txt` "
   ]
  },
  {
   "cell_type": "markdown",
   "metadata": {
    "emeta": {
     "name": "e3a"
    }
   },
   "source": [
    "## How did you reverse engineer file `3.txt` "
   ]
  },
  {
   "cell_type": "markdown",
   "metadata": {
    "emeta": {
     "name": "e4a"
    }
   },
   "source": [
    "## How did you reverse engineer file `4.txt` "
   ]
  }
 ],
 "metadata": {
  "celltoolbar": "Edit Metadata",
  "kernelspec": {
   "display_name": "Python 3",
   "language": "python",
   "name": "python3"
  },
  "language_info": {
   "codemirror_mode": {
    "name": "ipython",
    "version": 3
   },
   "file_extension": ".py",
   "mimetype": "text/x-python",
   "name": "python",
   "nbconvert_exporter": "python",
   "pygments_lexer": "ipython3",
   "version": "3.6.6"
  }
 },
 "nbformat": 4,
 "nbformat_minor": 1
}
